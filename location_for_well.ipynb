{
 "cells": [
  {
   "cell_type": "markdown",
   "metadata": {},
   "source": [
    "# Выбор локации для скважины"
   ]
  },
  {
   "cell_type": "markdown",
   "metadata": {},
   "source": [
    "Допустим, вы работаете в добывающей компании «ГлавРосГосНефть». Нужно решить, где бурить новую скважину.\n",
    "\n",
    "Вам предоставлены пробы нефти в трёх регионах: в каждом 10 000 месторождений, где измерили качество нефти и объём её запасов. Постройте модель машинного обучения, которая поможет определить регион, где добыча принесёт наибольшую прибыль. Проанализируйте возможную прибыль и риски техникой *Bootstrap.*\n",
    "\n",
    "Шаги для выбора локации:\n",
    "\n",
    "- В избранном регионе ищут месторождения, для каждого определяют значения признаков;\n",
    "- Строят модель и оценивают объём запасов;\n",
    "- Выбирают месторождения с самым высокими оценками значений. Количество месторождений зависит от бюджета компании и стоимости разработки одной скважины;\n",
    "- Прибыль равна суммарной прибыли отобранных месторождений."
   ]
  },
  {
   "cell_type": "markdown",
   "metadata": {},
   "source": [
    "## Загрузка и подготовка данных"
   ]
  },
  {
   "cell_type": "markdown",
   "metadata": {},
   "source": [
    "Выгрузим нужные библиотеки и датасеты. Ознакомимся с общей информацией.\n",
    "\n",
    "*Описание данных*\n",
    "\n",
    "- id — уникальный идентификатор скважины;\n",
    "- f0, f1, f2 — три признака точек (неважно, что они означают, но сами признаки значимы);\n",
    "- product — объём запасов в скважине (тыс. баррелей)."
   ]
  },
  {
   "cell_type": "code",
   "execution_count": 44,
   "metadata": {},
   "outputs": [],
   "source": [
    "import math\n",
    "import numpy as np\n",
    "import pandas as pd\n",
    "import seaborn as sns\n",
    "from scipy import stats as st\n",
    "import matplotlib.pyplot as plt\n",
    "from numpy.random import RandomState\n",
    "from sklearn.model_selection import train_test_split\n",
    "from sklearn.preprocessing import StandardScaler\n",
    "from sklearn.linear_model import LinearRegression\n",
    "from sklearn.metrics import mean_squared_error, r2_score, mean_absolute_error\n",
    "from sklearn.model_selection import GridSearchCV\n",
    "from sklearn.preprocessing import MinMaxScaler\n",
    "import warnings\n",
    "warnings.filterwarnings(\"ignore\")"
   ]
  },
  {
   "cell_type": "code",
   "execution_count": 2,
   "metadata": {},
   "outputs": [],
   "source": [
    "df0 = pd.read_csv('/datasets/geo_data_0.csv')\n",
    "df1 = pd.read_csv('/datasets/geo_data_1.csv')\n",
    "df2 = pd.read_csv('/datasets/geo_data_2.csv')"
   ]
  },
  {
   "cell_type": "code",
   "execution_count": 3,
   "metadata": {},
   "outputs": [
    {
     "name": "stdout",
     "output_type": "stream",
     "text": [
      "<class 'pandas.core.frame.DataFrame'>\n",
      "RangeIndex: 100000 entries, 0 to 99999\n",
      "Data columns (total 5 columns):\n",
      "id         100000 non-null object\n",
      "f0         100000 non-null float64\n",
      "f1         100000 non-null float64\n",
      "f2         100000 non-null float64\n",
      "product    100000 non-null float64\n",
      "dtypes: float64(4), object(1)\n",
      "memory usage: 3.8+ MB\n",
      "None\n",
      "**************************************************\n",
      "<class 'pandas.core.frame.DataFrame'>\n",
      "RangeIndex: 100000 entries, 0 to 99999\n",
      "Data columns (total 5 columns):\n",
      "id         100000 non-null object\n",
      "f0         100000 non-null float64\n",
      "f1         100000 non-null float64\n",
      "f2         100000 non-null float64\n",
      "product    100000 non-null float64\n",
      "dtypes: float64(4), object(1)\n",
      "memory usage: 3.8+ MB\n",
      "None\n",
      "**************************************************\n",
      "<class 'pandas.core.frame.DataFrame'>\n",
      "RangeIndex: 100000 entries, 0 to 99999\n",
      "Data columns (total 5 columns):\n",
      "id         100000 non-null object\n",
      "f0         100000 non-null float64\n",
      "f1         100000 non-null float64\n",
      "f2         100000 non-null float64\n",
      "product    100000 non-null float64\n",
      "dtypes: float64(4), object(1)\n",
      "memory usage: 3.8+ MB\n",
      "None\n",
      "**************************************************\n"
     ]
    }
   ],
   "source": [
    "for _ in df0,df1,df2:\n",
    "    print(_.info())\n",
    "    print(\"*\" * 50)"
   ]
  },
  {
   "cell_type": "code",
   "execution_count": 4,
   "metadata": {},
   "outputs": [
    {
     "name": "stdout",
     "output_type": "stream",
     "text": [
      "                  f0             f1             f2        product\n",
      "count  100000.000000  100000.000000  100000.000000  100000.000000\n",
      "mean        0.500419       0.250143       2.502647      92.500000\n",
      "std         0.871832       0.504433       3.248248      44.288691\n",
      "min        -1.408605      -0.848218     -12.088328       0.000000\n",
      "25%        -0.072580      -0.200881       0.287748      56.497507\n",
      "50%         0.502360       0.250252       2.515969      91.849972\n",
      "75%         1.073581       0.700646       4.715088     128.564089\n",
      "max         2.362331       1.343769      16.003790     185.364347\n",
      "**********************************************************************\n",
      "                  f0             f1             f2        product\n",
      "count  100000.000000  100000.000000  100000.000000  100000.000000\n",
      "mean        1.141296      -4.796579       2.494541      68.825000\n",
      "std         8.965932       5.119872       1.703572      45.944423\n",
      "min       -31.609576     -26.358598      -0.018144       0.000000\n",
      "25%        -6.298551      -8.267985       1.000021      26.953261\n",
      "50%         1.153055      -4.813172       2.011479      57.085625\n",
      "75%         8.621015      -1.332816       3.999904     107.813044\n",
      "max        29.421755      18.734063       5.019721     137.945408\n",
      "**********************************************************************\n",
      "                  f0             f1             f2        product\n",
      "count  100000.000000  100000.000000  100000.000000  100000.000000\n",
      "mean        0.002023      -0.002081       2.495128      95.000000\n",
      "std         1.732045       1.730417       3.473445      44.749921\n",
      "min        -8.760004      -7.084020     -11.970335       0.000000\n",
      "25%        -1.162288      -1.174820       0.130359      59.450441\n",
      "50%         0.009424      -0.009482       2.484236      94.925613\n",
      "75%         1.158535       1.163678       4.858794     130.595027\n",
      "max         7.238262       7.844801      16.739402     190.029838\n",
      "**********************************************************************\n"
     ]
    }
   ],
   "source": [
    "for _ in df0,df1,df2:\n",
    "    print(_.describe())\n",
    "    print(\"*\" * 70)"
   ]
  },
  {
   "cell_type": "markdown",
   "metadata": {},
   "source": [
    "Средний объём в скважине из второго региона меньше чем в первом и третьем."
   ]
  },
  {
   "cell_type": "code",
   "execution_count": 5,
   "metadata": {},
   "outputs": [
    {
     "name": "stdout",
     "output_type": "stream",
     "text": [
      "Количество дубликатов в таблице: 0\n",
      "**********\n",
      "Количество дубликатов в таблице: 0\n",
      "**********\n",
      "Количество дубликатов в таблице: 0\n",
      "**********\n"
     ]
    }
   ],
   "source": [
    "for _ in df0,df1,df2:\n",
    "    print(\"Количество дубликатов в таблице:\", _.duplicated().sum())\n",
    "    print(\"*\" * 10)"
   ]
  },
  {
   "cell_type": "code",
   "execution_count": 6,
   "metadata": {},
   "outputs": [],
   "source": [
    "for _ in df0,df1,df2:\n",
    "    _.drop('id', axis=1, inplace=True)"
   ]
  },
  {
   "cell_type": "code",
   "execution_count": 7,
   "metadata": {},
   "outputs": [],
   "source": [
    "df0.name = 'Регион 1'\n",
    "df1.name = 'Регион 2'\n",
    "df2.name = 'Регион 3'"
   ]
  },
  {
   "cell_type": "markdown",
   "metadata": {},
   "source": [
    "Столбец id категориальный, все значения уникальны, нет смысла его кодировать, удалим его из датафреймов."
   ]
  },
  {
   "cell_type": "code",
   "execution_count": 8,
   "metadata": {},
   "outputs": [
    {
     "name": "stdout",
     "output_type": "stream",
     "text": [
      "\n",
      "\n"
     ]
    },
    {
     "data": {
      "image/png": "[encoded data removed]",
      "text/plain": [
       "<Figure size 1800x360 with 4 Axes>"
      ]
     },
     "metadata": {},
     "output_type": "display_data"
    },
    {
     "name": "stdout",
     "output_type": "stream",
     "text": [
      "\n",
      "\n"
     ]
    },
    {
     "data": {
      "image/png": "[encoded data removed]",
      "text/plain": [
       "<Figure size 1800x360 with 4 Axes>"
      ]
     },
     "metadata": {},
     "output_type": "display_data"
    },
    {
     "name": "stdout",
     "output_type": "stream",
     "text": [
      "\n",
      "\n"
     ]
    },
    {
     "data": {
      "image/png": "[encoded data removed]",
      "text/plain": [
       "<Figure size 1800x360 with 4 Axes>"
      ]
     },
     "metadata": {},
     "output_type": "display_data"
    }
   ],
   "source": [
    "plt.style.use('seaborn-darkgrid')\n",
    "palette = plt.get_cmap('Set1')\n",
    "\n",
    "for _ in df0,df1,df2:\n",
    "    fig = plt.figure(figsize=(25, 5))\n",
    "    ttl = fig.suptitle('Датафрейм \"{}\"'.format(_.name), fontsize=25)\n",
    "    ttl.set_position([.5, 1.05])\n",
    "    \n",
    "    rows = 1\n",
    "    cols = 4\n",
    "    counter = 1\n",
    "    for column in _.columns:\n",
    "        ax = plt.subplot(rows, cols, counter)\n",
    "        plt.xlabel('Значение признака', fontsize=15)\n",
    "        plt.ylabel('Кол-во, шт.', fontsize=13)\n",
    "        ax.set_title(column, fontsize=20)\n",
    "        _[column].hist(bins=30)\n",
    "        counter += 1\n",
    "    print('\\n')\n",
    "    plt.show()"
   ]
  },
  {
   "cell_type": "markdown",
   "metadata": {},
   "source": [
    "На графиках также можем наблюдать, что по объёму запасов в скважине второй регион заметно отличается от первого и третьего: медиана у второго региона ощутимо ниже."
   ]
  },
  {
   "cell_type": "code",
   "execution_count": 9,
   "metadata": {},
   "outputs": [
    {
     "data": {
      "text/plain": [
       "53.906522     8472\n",
       "26.953261     8468\n",
       "84.038886     8431\n",
       "57.085625     8390\n",
       "3.179103      8337\n",
       "80.859783     8320\n",
       "30.132364     8306\n",
       "134.766305    8304\n",
       "110.992147    8303\n",
       "0.000000      8235\n",
       "137.945408    8233\n",
       "107.813044    8201\n",
       "Name: product, dtype: int64"
      ]
     },
     "execution_count": 9,
     "metadata": {},
     "output_type": "execute_result"
    }
   ],
   "source": [
    "df1['product'].value_counts()"
   ]
  },
  {
   "cell_type": "code",
   "execution_count": 10,
   "metadata": {},
   "outputs": [
    {
     "data": {
      "text/plain": [
       "f0         8235\n",
       "f1         8235\n",
       "f2         8235\n",
       "product    8235\n",
       "dtype: int64"
      ]
     },
     "execution_count": 10,
     "metadata": {},
     "output_type": "execute_result"
    }
   ],
   "source": [
    "df1[df1['product'] == 0].count()"
   ]
  },
  {
   "cell_type": "code",
   "execution_count": 11,
   "metadata": {},
   "outputs": [
    {
     "data": {
      "text/plain": [
       "f0         1\n",
       "f1         1\n",
       "f2         1\n",
       "product    1\n",
       "dtype: int64"
      ]
     },
     "execution_count": 11,
     "metadata": {},
     "output_type": "execute_result"
    }
   ],
   "source": [
    "df0[df0['product'] == 0].count()"
   ]
  },
  {
   "cell_type": "code",
   "execution_count": 12,
   "metadata": {},
   "outputs": [
    {
     "data": {
      "text/plain": [
       "f0         1\n",
       "f1         1\n",
       "f2         1\n",
       "product    1\n",
       "dtype: int64"
      ]
     },
     "execution_count": 12,
     "metadata": {},
     "output_type": "execute_result"
    }
   ],
   "source": [
    "df2[df2['product'] == 0].count()"
   ]
  },
  {
   "cell_type": "markdown",
   "metadata": {},
   "source": [
    "Очень необычно, что столбец с вещественными числами(объём запасов) во втором регионе имеет всего лишь 12 уникальных значений. Я бы обязательно уточнил у ответственного сотрудника, но сейчас удовлетворимся идеей, что данные составлены искуственно. \n",
    "\n",
    "Также оказалось около 8,2% нулевых значений в столбце с запасом нефти второго региона."
   ]
  },
  {
   "cell_type": "code",
   "execution_count": 13,
   "metadata": {},
   "outputs": [
    {
     "name": "stdout",
     "output_type": "stream",
     "text": [
      "Матрица корреляции DataFrame №0:\n",
      "               f0        f1        f2   product\n",
      "f0       1.000000 -0.440723 -0.003153  0.143536\n",
      "f1      -0.440723  1.000000  0.001724 -0.192356\n",
      "f2      -0.003153  0.001724  1.000000  0.483663\n",
      "product  0.143536 -0.192356  0.483663  1.000000\n",
      "**************************************************\n",
      "Матрица корреляции DataFrame №1:\n",
      "               f0        f1        f2   product\n",
      "f0       1.000000  0.182287 -0.001777 -0.030491\n",
      "f1       0.182287  1.000000 -0.002595 -0.010155\n",
      "f2      -0.001777 -0.002595  1.000000  0.999397\n",
      "product -0.030491 -0.010155  0.999397  1.000000\n",
      "**************************************************\n",
      "Матрица корреляции DataFrame №2:\n",
      "               f0        f1        f2   product\n",
      "f0       1.000000  0.000528 -0.000448 -0.001987\n",
      "f1       0.000528  1.000000  0.000779 -0.001012\n",
      "f2      -0.000448  0.000779  1.000000  0.445871\n",
      "product -0.001987 -0.001012  0.445871  1.000000\n",
      "**************************************************\n"
     ]
    }
   ],
   "source": [
    "title=0\n",
    "for _ in df0,df1,df2:\n",
    "    print(f\"Матрица корреляции DataFrame №{title}:\")\n",
    "    print( _.corr())\n",
    "    print(\"*\" * 50)\n",
    "    title+=1"
   ]
  },
  {
   "cell_type": "markdown",
   "metadata": {},
   "source": [
    "Обнаружили сильную прямую завимсимость между запасами и признаком f2 во втором регионе, остальные корреляции незначительны либо отсутствуют вовсе.\n",
    "\n",
    "\n",
    "**Вывод** В столбце запасов второго утеряно/не заполнено 8,2% значений, либо исследования не проводились, либо скважины окзались реально пустыми.\n",
    "\n",
    "По гистограмммам можем видеть, что первый и третий регион имеют несколько пиковых значений, скорее всего это говорит о том, что близкие друг к другу скважины, которые расположены кластерно, имеют примерно одинаковые запасы по прогнозу."
   ]
  },
  {
   "cell_type": "markdown",
   "metadata": {},
   "source": [
    "## Обучение и проверка модели"
   ]
  },
  {
   "cell_type": "markdown",
   "metadata": {},
   "source": [
    "1.Разобьём данные на обучающую и валидационную выборки в соотношении 75:25"
   ]
  },
  {
   "cell_type": "code",
   "execution_count": 14,
   "metadata": {},
   "outputs": [],
   "source": [
    "def linear_prediction(data):\n",
    "    features = data.drop(['product'], axis = 1)\n",
    "    target = data['product']\n",
    "    \n",
    "    features_train, features_valid, target_train, target_valid = train_test_split(features, target, test_size=.25, random_state=42)\n",
    "    \n",
    "    scaler = MinMaxScaler()\n",
    "    features_train = scaler.fit_transform(features_train)\n",
    "    features_valid = scaler.transform(features_valid)\n",
    "    \n",
    "    model = LinearRegression()\n",
    "    model.fit(features_train, target_train)\n",
    "    \n",
    "    return pd.Series(model.predict(features_valid)), target_valid"
   ]
  },
  {
   "cell_type": "markdown",
   "metadata": {},
   "source": [
    "2. Обучим модель и сделаем предсказания на валидационной выборке. Сохраним предсказания и правильные ответы на валидационной выборке."
   ]
  },
  {
   "cell_type": "code",
   "execution_count": 15,
   "metadata": {},
   "outputs": [],
   "source": [
    "predict_df0, target_df0 = linear_prediction(df0)\n",
    "predict_df1, target_df1 = linear_prediction(df1)\n",
    "predict_df2, target_df2 = linear_prediction(df2)"
   ]
  },
  {
   "cell_type": "markdown",
   "metadata": {},
   "source": [
    "3. Напечатаем на экране средний запас предсказанного сырья и RMSE модели. Проанилизируем результат."
   ]
  },
  {
   "cell_type": "code",
   "execution_count": 16,
   "metadata": {},
   "outputs": [],
   "source": [
    "def mean_product_and_rmse(predictions, target):\n",
    "    mse = mean_squared_error(target, predictions)\n",
    "    print('Средний запас сырья, тыс. баррелей:', predictions.mean())\n",
    "    print('RMSE:', mse ** 0.5)"
   ]
  },
  {
   "cell_type": "code",
   "execution_count": 17,
   "metadata": {},
   "outputs": [
    {
     "name": "stdout",
     "output_type": "stream",
     "text": [
      "Регион 1\n",
      "Средний запас сырья, тыс. баррелей: 92.39879990657768\n",
      "RMSE: 37.75660035026169\n"
     ]
    }
   ],
   "source": [
    "print('Регион 1')\n",
    "mean_product_and_rmse(predict_df0, target_df0)"
   ]
  },
  {
   "cell_type": "code",
   "execution_count": 18,
   "metadata": {},
   "outputs": [
    {
     "name": "stdout",
     "output_type": "stream",
     "text": [
      "Регион 2\n",
      "Средний запас сырья, тыс. баррелей: 68.71287803913764\n",
      "RMSE: 0.8902801001028834\n"
     ]
    }
   ],
   "source": [
    "print('Регион 2')\n",
    "mean_product_and_rmse(predict_df1, target_df1)"
   ]
  },
  {
   "cell_type": "code",
   "execution_count": 19,
   "metadata": {},
   "outputs": [
    {
     "name": "stdout",
     "output_type": "stream",
     "text": [
      "Регион 3\n",
      "Средний запас сырья, тыс. баррелей: 94.77102387765939\n",
      "RMSE: 40.145872311342174\n"
     ]
    }
   ],
   "source": [
    "print('Регион 3')\n",
    "mean_product_and_rmse(predict_df2, target_df2)"
   ]
  },
  {
   "cell_type": "markdown",
   "metadata": {},
   "source": [
    "Получили очень низкий показатель отклонения во втором регионе. Это говорит о том, что мы с большой долей вероятности можем найти месторождение близкое к среднему по региону. С другой стороны, у нас есть два региона, в которых среднее значение запаса скважины значительно выше, но из-за большого RMSE высока вероятность, что мы отклонимся от среднего в пределах стандартного отклонения, таким образом, возможно, запас скважины будет меньше, чем предсказанный для второго региона. "
   ]
  },
  {
   "cell_type": "markdown",
   "metadata": {},
   "source": [
    "## Подготовка к расчёту прибыли"
   ]
  },
  {
   "cell_type": "markdown",
   "metadata": {},
   "source": [
    "1. Ключевые значения для расчётов сохраним в отдельных переменных.\n",
    "- При разведке региона исследуем 500 точек, из которых с помощью машинного обучения выбирают 200 лучших для разработки.\n",
    "- Бюджет на разработку скважин в регионе — 10 млрд рублей.\n",
    "- При нынешних ценах один баррель сырья приносит 450 рублей дохода. Доход с каждой единицы продукта составляет 450 тыс. рублей, поскольку объём указан в тысячах баррелей.\n",
    "- После оценки рисков нужно оставить лишь те регионы, в которых вероятность убытков меньше 2.5%. Среди них выбирают регион с наибольшей средней прибылью."
   ]
  },
  {
   "cell_type": "code",
   "execution_count": 30,
   "metadata": {},
   "outputs": [],
   "source": [
    "BOOTSTRAP_SAMPLES = 1000\n",
    "BUDGET = 10_000_000_000\n",
    "EXPLORE_WELLS = 500\n",
    "BEST_WELLS = 200\n",
    "BARRELS_PRICE_PER_1K = 450_000\n",
    "RISK_LOSS = 0.025"
   ]
  },
  {
   "cell_type": "markdown",
   "metadata": {},
   "source": [
    "2. Рассчитаем достаточный объём сырья для безубыточной разработки новой скважины. Сравним полученный объём сырья со средним запасом в каждом регионе.\n"
   ]
  },
  {
   "cell_type": "code",
   "execution_count": 21,
   "metadata": {},
   "outputs": [
    {
     "name": "stdout",
     "output_type": "stream",
     "text": [
      "Точка безубыточности: 22222 тыс. баррелей\n",
      "Средний объем нефти в скважине для безубыточного функционирования: 112.0\n"
     ]
    }
   ],
   "source": [
    "point_of_make_out = BUDGET / BARRELS_PRICE_PER_1K\n",
    "print(\"Точка безубыточности: {0:.0f} тыс. баррелей\".format(point_of_make_out))\n",
    "print(\"Средний объем нефти в скважине для безубыточного функционирования:\", np.ceil(point_of_make_out/200))"
   ]
  },
  {
   "cell_type": "code",
   "execution_count": 22,
   "metadata": {},
   "outputs": [
    {
     "name": "stdout",
     "output_type": "stream",
     "text": [
      "Средний фактический объём добычи в регионе №0: 92.50000000000001\n",
      "**********************************************************************\n",
      "Средний фактический объём добычи в регионе №1: 68.82500000000002\n",
      "**********************************************************************\n",
      "Средний фактический объём добычи в регионе №2: 95.00000000000004\n",
      "**********************************************************************\n"
     ]
    }
   ],
   "source": [
    "title=0\n",
    "for _ in df0,df1,df2:\n",
    "    print(f\"Средний фактический объём добычи в регионе №{title}:\", _['product'].mean())\n",
    "    print(\"*\" * 70)\n",
    "    title+=1"
   ]
  },
  {
   "cell_type": "markdown",
   "metadata": {},
   "source": [
    "Вывод: добыча будет безубыточной для скважин , в которых запас не менее 112 тыс. баррелей. Средний запас сырья по каждому из регионов ниже необходимого для безубыточности."
   ]
  },
  {
   "cell_type": "markdown",
   "metadata": {},
   "source": [
    "## Расчёт прибыли и рисков "
   ]
  },
  {
   "cell_type": "markdown",
   "metadata": {},
   "source": [
    "Напишем функцию для расчёта прибыли по выбранным скважинам и предсказаниям модели.\n",
    "\n",
    "1. Выберем скважины с максимальными значениями предсказаний\n",
    "2. Просуммируем целевое значение объёма сырья, соответствующее этим предсказаниям.\n",
    "3. Рассчитаем прибыль для полученного объёма сырья."
   ]
  },
  {
   "cell_type": "code",
   "execution_count": 50,
   "metadata": {},
   "outputs": [],
   "source": [
    "def max_predict(predictions, target):\n",
    "    target = pd.Series(target).reset_index(drop=True)\n",
    "    predictions = pd.Series(predictions).reset_index(drop=True)\n",
    "    predictions_s = predictions.sort_values(ascending=False)[:BEST_WELLS].index\n",
    "    selected = target[predictions_s]\n",
    "    revenue = selected.sum() * BARRELS_PRICE_PER_1K - BUDGET\n",
    "    \n",
    "    return revenue"
   ]
  },
  {
   "cell_type": "code",
   "execution_count": 37,
   "metadata": {},
   "outputs": [
    {
     "name": "stdout",
     "output_type": "stream",
     "text": [
      "Прибыль для полученного объёма сырья для Региона 1: 3.3591 млрд.руб.\n"
     ]
    }
   ],
   "source": [
    "print(f'Прибыль для полученного объёма сырья для Региона 1: {round(max_predict(predict_df0, target_df0) / 1_000_000_000, 4)} млрд.руб.')"
   ]
  },
  {
   "cell_type": "code",
   "execution_count": 38,
   "metadata": {},
   "outputs": [
    {
     "name": "stdout",
     "output_type": "stream",
     "text": [
      "Прибыль для полученного объёма сырья для Региона 2: 2.4151 млрд.руб.\n"
     ]
    }
   ],
   "source": [
    "print(f'Прибыль для полученного объёма сырья для Региона 2: {round(max_predict(predict_df1, target_df1) / 1_000_000_000, 4)} млрд.руб.')"
   ]
  },
  {
   "cell_type": "code",
   "execution_count": 39,
   "metadata": {},
   "outputs": [
    {
     "name": "stdout",
     "output_type": "stream",
     "text": [
      "Прибыль для полученного объёма сырья для Региона 3: 2.5986 млрд.руб.\n"
     ]
    }
   ],
   "source": [
    "print(f'Прибыль для полученного объёма сырья для Региона 3: {round(max_predict(predict_df2, target_df2) / 1_000_000_000, 4)} млрд.руб.')"
   ]
  },
  {
   "cell_type": "markdown",
   "metadata": {},
   "source": [
    "**Посчитаем риски и прибыль для каждого региона. Найдем распределение прибыли с помощью техники Bootstrap.**\n",
    "\n",
    "1. Применим технику Bootstrap с 1000 выборок, чтобы найти распределение прибыли.\n",
    "2. Найдите среднюю прибыль, 95%-й доверительный интервал и риск убытков. Убыток — это отрицательная прибыль."
   ]
  },
  {
   "cell_type": "code",
   "execution_count": 51,
   "metadata": {},
   "outputs": [],
   "source": [
    "def bootstrap(target, probabilities):\n",
    "    state = np.random.RandomState(42)\n",
    "    values = []\n",
    "    \n",
    "    for i in range(BOOTSTRAP_SAMPLES):\n",
    "        target_subsample = target.sample(n=EXPLORE_WELLS, random_state=state, replace=True)\n",
    "        probs_subsample = probabilities[target_subsample.index]\n",
    "        values.append(max_predict(probs_subsample, target_subsample))\n",
    "\n",
    "    values = pd.Series(values)\n",
    "    mean = values.mean()\n",
    "    risk = (values < 0).mean()\n",
    "    confidence_interval = st.t.interval(0.95, len(values)-1, loc=values.mean(), scale=values.sem())\n",
    "    \n",
    "    lower = values.quantile(0.025)\n",
    "    upper = values.quantile(0.975)\n",
    "    quantile_interval = (lower, upper)\n",
    "    \n",
    "    return round(mean,2), confidence_interval, round(risk*100, 2), quantile_interval"
   ]
  },
  {
   "cell_type": "code",
   "execution_count": 52,
   "metadata": {},
   "outputs": [
    {
     "name": "stdout",
     "output_type": "stream",
     "text": [
      "Регион №1 средняя выручка =  399575478.05\n",
      "Регион №1 95 %ый доверительный интервал по стьюденту =  (383465944.6179577, 415685011.49050176)\n",
      "Регион №1 95 %ый доверительный интервал по квантилям =  (-110467895.33197227, 897460327.7178793)\n",
      "Регион №1 Риск убытков: 6.0%\n"
     ]
    }
   ],
   "source": [
    "df0_mean, df0_interval, df0_risk, df0_quantile = bootstrap(target_df0.reset_index(drop=True), predict_df0)\n",
    "print('Регион №1 средняя выручка = ', df0_mean)\n",
    "print('Регион №1 95 %ый доверительный интервал по стьюденту = ', df0_interval)\n",
    "print('Регион №1 95 %ый доверительный интервал по квантилям = ', df0_quantile)\n",
    "print(f'Регион №1 Риск убытков: {df0_risk}%')"
   ]
  },
  {
   "cell_type": "code",
   "execution_count": 53,
   "metadata": {},
   "outputs": [
    {
     "name": "stdout",
     "output_type": "stream",
     "text": [
      "Регион №1 средняя выручка =  452048890.91\n",
      "Регион №1 95 %ый доверительный интервал по стьюденту =  (439336921.1915223, 464760860.62139446)\n",
      "Регион №1 95 %ый доверительный интервал по квантилям =  (61684479.654226735, 845340177.5073848)\n",
      "Регион №1 Риск убытков: 1.5%\n"
     ]
    }
   ],
   "source": [
    "df1_mean, df1_interval, df1_risk, df1_quantile = bootstrap(target_df1.reset_index(drop=True), predict_df1)\n",
    "print('Регион №1 средняя выручка = ', df1_mean)\n",
    "print('Регион №1 95 %ый доверительный интервал по стьюденту = ', df1_interval)\n",
    "print('Регион №1 95 %ый доверительный интервал по квантилям = ', df1_quantile)\n",
    "print(f'Регион №1 Риск убытков: {df1_risk}%')"
   ]
  },
  {
   "cell_type": "code",
   "execution_count": 54,
   "metadata": {},
   "outputs": [
    {
     "name": "stdout",
     "output_type": "stream",
     "text": [
      "Регион №1 средняя выручка =  375009902.92\n",
      "Регион №1 95 %ый доверительный интервал по стьюденту =  (358734679.82884467, 391285126.0018133)\n",
      "Регион №1 95 %ый доверительный интервал по квантилям =  (-144766727.3048927, 888390403.5342213)\n",
      "Регион №1 Риск убытков: 8.0%\n"
     ]
    }
   ],
   "source": [
    "df2_mean, df2_interval, df2_risk, df2_quantile = bootstrap(target_df2.reset_index(drop=True), predict_df2)\n",
    "print('Регион №1 средняя выручка = ', df2_mean)\n",
    "print('Регион №1 95 %ый доверительный интервал по стьюденту = ', df2_interval)\n",
    "print('Регион №1 95 %ый доверительный интервал по квантилям = ', df2_quantile)\n",
    "print(f'Регион №1 Риск убытков: {df2_risk}%')"
   ]
  },
  {
   "cell_type": "markdown",
   "metadata": {},
   "source": [
    "Для разработки предлагаем регион номер 2.\n",
    "\n",
    "В качестве обоснования вытупает фактор наибольшей средней выручки, а также самый низкий порог риска - 1,5%. Это единственный регион, который соответствует условию заказчика, согласно которому вероятность убытка должна составлять менее 2,5%. "
   ]
  }
 ],
 "metadata": {
  "ExecuteTimeLog": [
   {
    "duration": 1158,
    "start_time": "2022-02-06T10:57:39.850Z"
   },
   {
    "duration": 354,
    "start_time": "2022-02-06T10:57:41.010Z"
   },
   {
    "duration": 24,
    "start_time": "2022-02-06T10:57:41.649Z"
   },
   {
    "duration": 288,
    "start_time": "2022-02-06T10:59:37.768Z"
   },
   {
    "duration": 89,
    "start_time": "2022-02-06T10:59:43.395Z"
   },
   {
    "duration": 90,
    "start_time": "2022-02-06T10:59:53.382Z"
   },
   {
    "duration": 104,
    "start_time": "2022-02-06T11:11:34.048Z"
   },
   {
    "duration": 115,
    "start_time": "2022-02-06T11:12:34.773Z"
   },
   {
    "duration": 104,
    "start_time": "2022-02-06T11:13:36.134Z"
   },
   {
    "duration": 182,
    "start_time": "2022-02-06T11:20:06.356Z"
   },
   {
    "duration": 176,
    "start_time": "2022-02-06T11:20:20.295Z"
   },
   {
    "duration": 121472,
    "start_time": "2022-02-06T11:20:35.654Z"
   },
   {
    "duration": 249,
    "start_time": "2022-02-06T11:23:25.734Z"
   },
   {
    "duration": 285,
    "start_time": "2022-02-06T11:23:37.545Z"
   },
   {
    "duration": 490,
    "start_time": "2022-02-06T11:24:09.649Z"
   },
   {
    "duration": 926,
    "start_time": "2022-02-06T11:24:22.212Z"
   },
   {
    "duration": 476,
    "start_time": "2022-02-06T11:29:47.263Z"
   },
   {
    "duration": 455,
    "start_time": "2022-02-06T11:30:22.384Z"
   },
   {
    "duration": 701,
    "start_time": "2022-02-06T11:30:41.286Z"
   },
   {
    "duration": 1313,
    "start_time": "2022-02-06T11:30:52.252Z"
   },
   {
    "duration": 1854,
    "start_time": "2022-02-06T11:32:09.189Z"
   },
   {
    "duration": 1238,
    "start_time": "2022-02-06T11:32:16.682Z"
   },
   {
    "duration": 1817,
    "start_time": "2022-02-06T11:32:34.000Z"
   },
   {
    "duration": 1891,
    "start_time": "2022-02-06T11:33:02.861Z"
   },
   {
    "duration": 1232,
    "start_time": "2022-02-06T11:33:23.986Z"
   },
   {
    "duration": 1724,
    "start_time": "2022-02-06T11:33:59.129Z"
   },
   {
    "duration": 2590,
    "start_time": "2022-02-06T11:34:11.452Z"
   },
   {
    "duration": 1739,
    "start_time": "2022-02-06T11:34:34.605Z"
   },
   {
    "duration": 62,
    "start_time": "2022-02-06T11:52:19.024Z"
   },
   {
    "duration": 7,
    "start_time": "2022-02-06T11:52:42.425Z"
   },
   {
    "duration": 93,
    "start_time": "2022-02-06T12:44:32.411Z"
   },
   {
    "duration": 28,
    "start_time": "2022-02-06T12:44:38.079Z"
   },
   {
    "duration": 22,
    "start_time": "2022-02-06T12:44:45.971Z"
   },
   {
    "duration": 22,
    "start_time": "2022-02-06T12:44:52.002Z"
   },
   {
    "duration": 24,
    "start_time": "2022-02-06T12:46:01.666Z"
   },
   {
    "duration": 22,
    "start_time": "2022-02-06T12:46:08.286Z"
   },
   {
    "duration": 23,
    "start_time": "2022-02-06T12:46:13.244Z"
   },
   {
    "duration": 22,
    "start_time": "2022-02-06T12:47:02.333Z"
   },
   {
    "duration": 22,
    "start_time": "2022-02-06T12:47:17.086Z"
   },
   {
    "duration": 3,
    "start_time": "2022-02-06T12:57:12.079Z"
   },
   {
    "duration": 234,
    "start_time": "2022-02-06T12:58:32.228Z"
   },
   {
    "duration": 3,
    "start_time": "2022-02-06T13:05:08.067Z"
   },
   {
    "duration": 3,
    "start_time": "2022-02-06T13:06:18.392Z"
   },
   {
    "duration": 5,
    "start_time": "2022-02-06T13:07:15.406Z"
   },
   {
    "duration": 5,
    "start_time": "2022-02-06T13:07:49.617Z"
   },
   {
    "duration": 5,
    "start_time": "2022-02-06T13:08:09.657Z"
   },
   {
    "duration": 3,
    "start_time": "2022-02-06T13:27:59.481Z"
   },
   {
    "duration": 4,
    "start_time": "2022-02-06T14:35:02.425Z"
   },
   {
    "duration": 59,
    "start_time": "2022-02-06T14:49:07.023Z"
   },
   {
    "duration": 186,
    "start_time": "2022-02-06T14:49:15.140Z"
   },
   {
    "duration": 6,
    "start_time": "2022-02-06T14:49:38.292Z"
   },
   {
    "duration": 6,
    "start_time": "2022-02-06T14:49:55.763Z"
   },
   {
    "duration": 61,
    "start_time": "2022-02-06T15:31:38.069Z"
   },
   {
    "duration": 3,
    "start_time": "2022-02-06T15:43:28.126Z"
   },
   {
    "duration": 585,
    "start_time": "2022-02-06T15:46:16.126Z"
   },
   {
    "duration": 378,
    "start_time": "2022-02-06T15:46:33.370Z"
   },
   {
    "duration": 3,
    "start_time": "2022-02-06T15:46:47.242Z"
   },
   {
    "duration": 9,
    "start_time": "2022-02-06T15:46:48.533Z"
   },
   {
    "duration": 5,
    "start_time": "2022-02-06T15:47:16.633Z"
   },
   {
    "duration": 9,
    "start_time": "2022-02-06T15:50:15.854Z"
   },
   {
    "duration": 10,
    "start_time": "2022-02-06T15:51:05.512Z"
   },
   {
    "duration": 10,
    "start_time": "2022-02-06T15:51:21.430Z"
   },
   {
    "duration": 3,
    "start_time": "2022-02-06T15:55:03.834Z"
   },
   {
    "duration": 11,
    "start_time": "2022-02-06T15:55:10.262Z"
   },
   {
    "duration": 11,
    "start_time": "2022-02-06T15:55:17.361Z"
   },
   {
    "duration": 11,
    "start_time": "2022-02-06T15:55:18.008Z"
   },
   {
    "duration": 3,
    "start_time": "2022-02-06T15:56:46.188Z"
   },
   {
    "duration": 5,
    "start_time": "2022-02-06T15:59:48.762Z"
   },
   {
    "duration": 5,
    "start_time": "2022-02-06T15:59:57.273Z"
   },
   {
    "duration": 3,
    "start_time": "2022-02-06T16:03:12.614Z"
   },
   {
    "duration": 9,
    "start_time": "2022-02-06T16:03:17.339Z"
   },
   {
    "duration": 10,
    "start_time": "2022-02-06T16:03:44.446Z"
   },
   {
    "duration": 9,
    "start_time": "2022-02-06T16:03:51.022Z"
   },
   {
    "duration": 10,
    "start_time": "2022-02-06T16:03:51.922Z"
   },
   {
    "duration": 10,
    "start_time": "2022-02-06T16:04:02.844Z"
   },
   {
    "duration": 10,
    "start_time": "2022-02-06T16:04:04.539Z"
   },
   {
    "duration": 1122,
    "start_time": "2022-02-06T16:08:09.487Z"
   },
   {
    "duration": 352,
    "start_time": "2022-02-06T16:08:13.738Z"
   },
   {
    "duration": 25,
    "start_time": "2022-02-06T16:08:16.011Z"
   },
   {
    "duration": 89,
    "start_time": "2022-02-06T16:08:25.081Z"
   },
   {
    "duration": 103,
    "start_time": "2022-02-06T16:08:50.047Z"
   },
   {
    "duration": 17,
    "start_time": "2022-02-06T16:09:47.232Z"
   },
   {
    "duration": 283,
    "start_time": "2022-02-06T16:32:12.421Z"
   },
   {
    "duration": 174,
    "start_time": "2022-02-06T16:33:43.074Z"
   },
   {
    "duration": 4,
    "start_time": "2022-02-06T16:35:30.400Z"
   },
   {
    "duration": 422,
    "start_time": "2022-02-06T16:35:33.894Z"
   },
   {
    "duration": 2755,
    "start_time": "2022-02-06T16:35:57.091Z"
   },
   {
    "duration": 8,
    "start_time": "2022-02-06T16:37:55.044Z"
   },
   {
    "duration": 23,
    "start_time": "2022-02-06T16:38:03.677Z"
   },
   {
    "duration": 4,
    "start_time": "2022-02-06T16:42:50.757Z"
   },
   {
    "duration": 390,
    "start_time": "2022-02-06T16:42:56.075Z"
   },
   {
    "duration": 4,
    "start_time": "2022-02-06T16:43:58.326Z"
   },
   {
    "duration": 427,
    "start_time": "2022-02-06T16:44:05.534Z"
   },
   {
    "duration": 3,
    "start_time": "2022-02-06T16:44:12.516Z"
   },
   {
    "duration": 6,
    "start_time": "2022-02-06T16:44:14.563Z"
   },
   {
    "duration": 6,
    "start_time": "2022-02-06T16:44:16.839Z"
   },
   {
    "duration": 6,
    "start_time": "2022-02-06T16:44:19.676Z"
   },
   {
    "duration": 3,
    "start_time": "2022-02-06T16:45:56.154Z"
   },
   {
    "duration": 4,
    "start_time": "2022-02-06T16:46:20.599Z"
   },
   {
    "duration": 6,
    "start_time": "2022-02-06T16:46:21.074Z"
   },
   {
    "duration": 4,
    "start_time": "2022-02-06T16:49:20.407Z"
   },
   {
    "duration": 1075,
    "start_time": "2022-02-06T16:57:46.570Z"
   },
   {
    "duration": 471,
    "start_time": "2022-02-06T16:58:51.672Z"
   },
   {
    "duration": 4,
    "start_time": "2022-02-06T16:59:29.026Z"
   },
   {
    "duration": 5661,
    "start_time": "2022-02-06T16:59:31.456Z"
   },
   {
    "duration": 16088,
    "start_time": "2022-02-06T16:59:53.057Z"
   },
   {
    "duration": 693,
    "start_time": "2022-02-06T17:02:25.632Z"
   },
   {
    "duration": 7,
    "start_time": "2022-02-06T17:04:10.425Z"
   },
   {
    "duration": 4,
    "start_time": "2022-02-06T17:05:53.098Z"
   },
   {
    "duration": 1094,
    "start_time": "2022-02-07T05:30:18.710Z"
   },
   {
    "duration": 6198,
    "start_time": "2022-02-07T05:30:19.806Z"
   },
   {
    "duration": 23,
    "start_time": "2022-02-07T05:30:26.006Z"
   },
   {
    "duration": 96,
    "start_time": "2022-02-07T05:30:26.031Z"
   },
   {
    "duration": 108,
    "start_time": "2022-02-07T05:30:26.128Z"
   },
   {
    "duration": 16,
    "start_time": "2022-02-07T05:30:26.237Z"
   },
   {
    "duration": 7,
    "start_time": "2022-02-07T05:30:26.255Z"
   },
   {
    "duration": 2360,
    "start_time": "2022-02-07T05:30:26.272Z"
   },
   {
    "duration": 6,
    "start_time": "2022-02-07T05:30:28.635Z"
   },
   {
    "duration": 35,
    "start_time": "2022-02-07T05:30:28.643Z"
   },
   {
    "duration": 4,
    "start_time": "2022-02-07T05:30:28.679Z"
   },
   {
    "duration": 299,
    "start_time": "2022-02-07T05:30:28.684Z"
   },
   {
    "duration": 4,
    "start_time": "2022-02-07T05:30:28.985Z"
   },
   {
    "duration": 87,
    "start_time": "2022-02-07T05:30:28.992Z"
   },
   {
    "duration": 93,
    "start_time": "2022-02-07T05:30:29.082Z"
   },
   {
    "duration": 4,
    "start_time": "2022-02-07T05:30:29.176Z"
   },
   {
    "duration": 3,
    "start_time": "2022-02-07T05:30:29.182Z"
   },
   {
    "duration": 4,
    "start_time": "2022-02-07T05:30:29.186Z"
   },
   {
    "duration": 9,
    "start_time": "2022-02-07T05:30:29.192Z"
   },
   {
    "duration": 3,
    "start_time": "2022-02-07T05:30:29.202Z"
   },
   {
    "duration": 397,
    "start_time": "2022-02-07T05:30:29.206Z"
   },
   {
    "duration": 15067,
    "start_time": "2022-02-07T05:30:47.286Z"
   },
   {
    "duration": 4,
    "start_time": "2022-02-07T06:06:53.926Z"
   },
   {
    "duration": 9,
    "start_time": "2022-02-07T06:11:12.716Z"
   },
   {
    "duration": 7,
    "start_time": "2022-02-07T06:11:45.622Z"
   },
   {
    "duration": 6,
    "start_time": "2022-02-07T06:12:00.448Z"
   },
   {
    "duration": 1193,
    "start_time": "2022-02-07T18:33:17.154Z"
   },
   {
    "duration": 362,
    "start_time": "2022-02-07T18:33:18.349Z"
   },
   {
    "duration": 23,
    "start_time": "2022-02-07T18:33:18.712Z"
   },
   {
    "duration": 106,
    "start_time": "2022-02-07T18:33:18.736Z"
   },
   {
    "duration": 131,
    "start_time": "2022-02-07T18:33:18.844Z"
   },
   {
    "duration": 16,
    "start_time": "2022-02-07T18:33:18.978Z"
   },
   {
    "duration": 9,
    "start_time": "2022-02-07T18:33:18.996Z"
   },
   {
    "duration": 2602,
    "start_time": "2022-02-07T18:33:19.007Z"
   },
   {
    "duration": 6,
    "start_time": "2022-02-07T18:33:21.611Z"
   },
   {
    "duration": 6,
    "start_time": "2022-02-07T18:33:21.619Z"
   },
   {
    "duration": 5,
    "start_time": "2022-02-07T18:33:21.627Z"
   },
   {
    "duration": 7,
    "start_time": "2022-02-07T18:33:21.633Z"
   },
   {
    "duration": 55,
    "start_time": "2022-02-07T18:33:21.641Z"
   },
   {
    "duration": 8,
    "start_time": "2022-02-07T18:33:21.698Z"
   },
   {
    "duration": 269,
    "start_time": "2022-02-07T18:33:21.708Z"
   },
   {
    "duration": 28,
    "start_time": "2022-02-07T18:33:21.979Z"
   },
   {
    "duration": 9,
    "start_time": "2022-02-07T18:33:22.073Z"
   },
   {
    "duration": 89,
    "start_time": "2022-02-07T18:33:22.085Z"
   },
   {
    "duration": 5,
    "start_time": "2022-02-07T18:33:22.176Z"
   },
   {
    "duration": 3,
    "start_time": "2022-02-07T18:33:25.195Z"
   },
   {
    "duration": 4,
    "start_time": "2022-02-07T18:33:46.975Z"
   },
   {
    "duration": 7,
    "start_time": "2022-02-07T18:33:48.587Z"
   },
   {
    "duration": 17,
    "start_time": "2022-02-07T18:34:27.599Z"
   },
   {
    "duration": 17,
    "start_time": "2022-02-07T18:34:40.196Z"
   },
   {
    "duration": 17,
    "start_time": "2022-02-07T18:35:04.596Z"
   },
   {
    "duration": 11,
    "start_time": "2022-02-07T18:35:11.517Z"
   },
   {
    "duration": 17,
    "start_time": "2022-02-07T18:35:18.244Z"
   },
   {
    "duration": 21,
    "start_time": "2022-02-07T18:35:22.072Z"
   },
   {
    "duration": 16,
    "start_time": "2022-02-07T18:35:25.371Z"
   },
   {
    "duration": 3,
    "start_time": "2022-02-07T18:42:33.713Z"
   },
   {
    "duration": 145,
    "start_time": "2022-02-07T18:46:03.603Z"
   },
   {
    "duration": 3,
    "start_time": "2022-02-07T18:46:09.701Z"
   },
   {
    "duration": 8,
    "start_time": "2022-02-07T18:46:38.465Z"
   },
   {
    "duration": 3,
    "start_time": "2022-02-07T18:50:36.016Z"
   },
   {
    "duration": 8,
    "start_time": "2022-02-07T18:50:36.505Z"
   },
   {
    "duration": 8,
    "start_time": "2022-02-07T18:57:03.431Z"
   },
   {
    "duration": 8,
    "start_time": "2022-02-07T18:57:59.951Z"
   },
   {
    "duration": 9,
    "start_time": "2022-02-07T18:58:20.639Z"
   },
   {
    "duration": 7,
    "start_time": "2022-02-07T18:58:36.532Z"
   },
   {
    "duration": 5,
    "start_time": "2022-02-07T19:50:26.743Z"
   },
   {
    "duration": 739,
    "start_time": "2022-02-07T19:54:01.418Z"
   },
   {
    "duration": 5,
    "start_time": "2022-02-07T19:55:48.780Z"
   },
   {
    "duration": 3995,
    "start_time": "2022-02-07T19:55:49.718Z"
   },
   {
    "duration": 4,
    "start_time": "2022-02-07T19:56:18.286Z"
   },
   {
    "duration": 2281,
    "start_time": "2022-02-07T19:56:27.413Z"
   },
   {
    "duration": 5,
    "start_time": "2022-02-07T19:59:22.954Z"
   },
   {
    "duration": 2238,
    "start_time": "2022-02-07T19:59:24.406Z"
   },
   {
    "duration": 5,
    "start_time": "2022-02-07T20:00:33.903Z"
   },
   {
    "duration": 2407,
    "start_time": "2022-02-07T20:00:56.419Z"
   },
   {
    "duration": 4,
    "start_time": "2022-02-07T20:03:12.539Z"
   },
   {
    "duration": 5,
    "start_time": "2022-02-07T20:03:23.659Z"
   },
   {
    "duration": 5996,
    "start_time": "2022-02-07T20:03:24.792Z"
   },
   {
    "duration": 2231,
    "start_time": "2022-02-07T20:05:18.143Z"
   },
   {
    "duration": 2258,
    "start_time": "2022-02-07T20:06:04.448Z"
   }
  ],
  "kernelspec": {
   "display_name": "Python 3",
   "language": "python",
   "name": "python3"
  },
  "language_info": {
   "codemirror_mode": {
    "name": "ipython",
    "version": 3
   },
   "file_extension": ".py",
   "mimetype": "text/x-python",
   "name": "python",
   "nbconvert_exporter": "python",
   "pygments_lexer": "ipython3",
   "version": "3.7.8"
  },
  "toc": {
   "base_numbering": 1,
   "nav_menu": {},
   "number_sections": true,
   "sideBar": true,
   "skip_h1_title": true,
   "title_cell": "Table of Contents",
   "title_sidebar": "Contents",
   "toc_cell": false,
   "toc_position": {},
   "toc_section_display": true,
   "toc_window_display": false
  }
 },
 "nbformat": 4,
 "nbformat_minor": 2
}
